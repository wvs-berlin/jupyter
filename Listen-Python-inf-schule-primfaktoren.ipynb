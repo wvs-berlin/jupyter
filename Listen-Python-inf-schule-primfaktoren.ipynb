{
 "cells": [
  {
   "attachments": {},
   "cell_type": "markdown",
   "metadata": {},
   "source": [
    "## Übungen zu Listen bei inf-schule  \n",
    "https://www.inf-schule.de/imperative-programmierung/python/konzepte/listen/uebungen"
   ]
  },
  {
   "attachments": {},
   "cell_type": "markdown",
   "metadata": {},
   "source": [
    "\n",
    "#### Hinweise zu den Aufgaben\n",
    "\n",
    "Die Teile a) und b) sollten von jeder / jedem geschafft werden. Schwierige Teile (ab c) sind entsprechend gekennzeichnet und sollten erst bearbeitet werden, wenn noch Zeit bleibt!"
   ]
  },
  {
   "attachments": {},
   "cell_type": "markdown",
   "metadata": {},
   "source": [
    "\n",
    "### Aufgabe 1: Eine Liste durchlaufen \n",
    "\n",
    "Jede natürliche Zahl lässt sich eindeutig als Produkt von Primzahlen darstellen. So kann etwa die Zahl 84 wie folgt dargestellt werden: 84 = 2*2*3*7.\n",
    "Die Primfaktorzerlegung einer Zahl soll hier mit Hilfe einer Liste dargestellt werden. Für die Zahl 84 ist dies die Liste"
   ]
  },
  {
   "cell_type": "code",
   "execution_count": null,
   "metadata": {},
   "outputs": [],
   "source": [
    "[2, 2, 3, 7]"
   ]
  },
  {
   "attachments": {},
   "cell_type": "markdown",
   "metadata": {},
   "source": [
    "(a) Will man aus dieser Primfaktorliste zu einer Zahl die dargestellte Zahl rekonstruieren, so muss man das Produkt der Listenelemente bestimmen. Teste das folgende Programm (auch mit anderen Initialisierungen). Ergänze Ausgabeanweisungen so, dass man die Produktberechnung mitverfolgen kann."
   ]
  },
  {
   "cell_type": "code",
   "execution_count": null,
   "metadata": {},
   "outputs": [],
   "source": [
    "# (a)\n",
    "# Initialisierung\n",
    "primfaktoren = [2, 2, 3, 7]\n",
    "# Verarbeitung\n",
    "produkt = 1\n",
    "for element in primfaktoren:\n",
    "    produkt = produkt * element\n",
    "# Ausgabe\n",
    "print('Primfaktoren:', primfaktoren)\n",
    "print('Zahl:', produkt)"
   ]
  },
  {
   "attachments": {},
   "cell_type": "markdown",
   "metadata": {},
   "source": [
    "(b) Mit einem Programm soll ermittelt werden, wie oft eine vorgegebene Primzahl in einer Primfaktorliste vorkommt. Entwickle und teste ein solches Programm. Hinweis: Zähler benutzen."
   ]
  },
  {
   "cell_type": "code",
   "execution_count": 3,
   "metadata": {},
   "outputs": [],
   "source": [
    "# (b) Schreibe hier dein Programm mit einem Zähler"
   ]
  },
  {
   "attachments": {},
   "cell_type": "markdown",
   "metadata": {},
   "source": [
    "(c) (schwierig, da man verschachtelte Listen erzeugen soll) Die Primfaktorzerlegung einer Zahl kann auch mit Potenzen geschrieben werden: 84 = 2<sup>2</sup>*3<sup>1</sup>*5<sup>0</sup>*7<sup>1</sup>. Eine solche Darstellung mit Potenzen könnte man in Listenform so beschreiben: [[2, 2], [3, 1], [5, 0], [7, 1]]. Wie müsste man die Produktberechnung in (a) abändern, damit man solche Primfaktordarstellungen in entsprechende Zahlen umrechnen kann?"
   ]
  },
  {
   "cell_type": "code",
   "execution_count": null,
   "metadata": {},
   "outputs": [],
   "source": [
    "# (c) Hier das Programm aus (a), das du ändern sollst\n",
    "# Initialisierung\n",
    "primfaktoren = [[2, 2], [3, 1], [5, 0], [7, 1]] # dies ist die neue Darstellung der Promfaktoren, die dein Progarmm bearbeiten soll\n",
    "# Verarbeitung\n",
    "produkt = 1\n",
    "for element in primfaktoren:\n",
    "    produkt = produkt * element\n",
    "# Ausgabe\n",
    "print('Primfaktoren:', primfaktoren)\n",
    "print('Zahl:', produkt) # Wenn dein Programm stimmt, sollte in diesem Beispiel die Zahl 84 ausgegeben werden"
   ]
  },
  {
   "attachments": {},
   "cell_type": "markdown",
   "metadata": {},
   "source": [
    "(d) Entwickle und teste ein Programm, das die Darstellung aus (a) (z.B. [2, 2, 3, 7]) in eine Darstellung wie in (c) (z.B. [[2, 2], [3, 1], [5, 0], [7, 1]] oder [[2, 2], [3, 1], [7, 1]]) umwandelt:"
   ]
  },
  {
   "cell_type": "code",
   "execution_count": 5,
   "metadata": {},
   "outputs": [],
   "source": [
    "# (d) Schreibe hier das Programm zur Aufgabe d)"
   ]
  },
  {
   "attachments": {},
   "cell_type": "markdown",
   "metadata": {},
   "source": [
    "(e) (Für Experten:) \n",
    "Entwickle und teste ein Programm, das eine Zahl als Eingabe erhält und die Primfaktorzerlegung als Liste ermittelt und ausgibt."
   ]
  },
  {
   "attachments": {},
   "cell_type": "markdown",
   "metadata": {},
   "source": [
    "\n",
    "#### Hinweise\n",
    "\n",
    "Es gibt verschiedene Herangehensweisen für dieses fast klassische informatische Problem.  \n",
    "Eine der einfachsten Möglichkeiten ist sicherlich mit einer vorhandenen Liste von Primzahlen zu arbeiten und diese Stück für Stück abzuarbeiten. Dabei wird getestet welche Zahl davon zu den Primfaktoren der zu untersuchenden Zahl gehören. Nachteil dieser Methode ist natürlich, dass die Größe der zu untersuchenden Zahl von der größten Primzahl in der Primzahlliste abhängt. Weiterhin muss man davon ausgehen, dass die verwendete Liste von Primzahlen korrekt ist.\n",
    "\n",
    "#### Beispiel\n",
    "\n",
    "Untersuchung der Zahl 84 und Zerlegung in Primfaktoren. Gegeben ist die Liste der Primzahlen bis 100. Diese Liste enthält natürlich zuviele Primzahlen, da der grösste Primfaktor nicht größer als 84 // 2 sein kann.  \n",
    "    liste_primzahlen = [2, 3, 5, 7, 11, 13, 17, 19, 23, 29, 31, 37, 41, 43, 47, 53, 59, 61, 67, 71, 73, 79, 83, 89, 97]  \n",
    "Wir testen nun bei der kleinsten Primzahl beginnend, ob diese unserer Zahl **ohne Rest** teilt. Solange dies der Fall ist, fügen wir diese Primzahl - auch mehrfach - unserer Primfaktorenliste hinzu.\n",
    "- Wir starten mit der 2. Die 2 teilt die 84 ganzzahlig (84 // 2) zu 42 ohne Rest -> 2 kommt in die Primzahlliste [2]\n",
    "- Mit dem **Resultat** rechnen wir weiter:  \n",
    "- Da wir immer noch bei der gleichen Primzahl sind, nehmen wir weiterhin die 2 und testen 42 // 2 = 21 Rest 0. Die 2 wird somit nochmal zur Primfaktorenliste hinzugefügt: [2,2].\n",
    "- Wir testen das aktuelle Ergebnis der Division, die 21 mit der aktuellen Primzahl, der 2: 21 // 2 = 10 Rest 1. Der Test schlägt fehl, wir müssen die 21 also weiter solange mit den folgenden Primzahlen testen, bis der Rest der ganzzahligen Divison wieder 0 ist. Die nächste Primzahl der Liste ist die 3.\n",
    "Test 21 // 3 = 7 Rest 0. Also wird die 3 zu den Primzahlfaktoren hinzugefügt: [2,2,3]  \n",
    "- Jetzt wird systematisch weiter getestet:  \n",
    "    7 // 3 = 2 Rest 1, also nächste Primzahl, die 5, auswählen: 7 // 5 = 1 Rest 2. Nächste Primzahl ist die 7: 7 // 7 = 1 Rest 0, also wird die 7 zur Liste der Primfaktoren hinzugefügt: [2,2,3,7]. Der letzte Rest der 84 nach der Durchführung des Divisionsverfahrens ist die 1. Dies signalisiert uns, dass wir nicht weiter teilen können / brauchen und wir sind somit am Ende angelangt.\n",
    "Führe das Verfahren mit einer anderen Zahl, z.B. 75 durch!\n"
   ]
  },
  {
   "cell_type": "code",
   "execution_count": null,
   "metadata": {},
   "outputs": [],
   "source": [
    "# wir müssen somit die Konstrollstrukturen Verzeigung (if),\n",
    "# die Kontrollstruktur While-Schleife und\n",
    "# unsere Listenfunktionen miteinander kombinieren\n",
    "# es wird eine verschachtelte Schleife, also eine Schleife innerhalb eiiner Schleife gebraucht\n",
    "# "
   ]
  },
  {
   "attachments": {},
   "cell_type": "markdown",
   "metadata": {},
   "source": [
    "Hilfestellung - Beschreibung des Algorithmus\n",
    "Beachte: // ist die ganzzahlige Division in Python\n",
    "\n",
    "    ALGORITHMUS primfaktoren(zahl):  \n",
    "        initialisiere die Liste faktoren: faktoren = []  \n",
    "        initialisiere die Hilfsvariable z: z = zahl  \n",
    "        SOLANGE z > 1:  \n",
    "            bestimme den kleinsten Primfaktor p von z mit Probedivisionen  \n",
    "            füge p in die Liste faktoren ein  \n",
    "            z = z // p  \n",
    "        Rückgabe: faktoren "
   ]
  },
  {
   "cell_type": "code",
   "execution_count": 5,
   "metadata": {},
   "outputs": [
    {
     "name": "stdout",
     "output_type": "stream",
     "text": [
      "23\n",
      "22\n",
      "21\n",
      "20\n",
      "19\n",
      "18\n",
      "17\n",
      "16\n",
      "15\n",
      "14\n",
      "13\n",
      "12\n",
      "11\n",
      "10\n",
      "9\n",
      "8\n",
      "7\n",
      "6\n",
      "5\n",
      "4\n",
      "3\n"
     ]
    }
   ],
   "source": [
    "for zaehler in range(23,2,-1):\n",
    "    print (zaehler)"
   ]
  },
  {
   "cell_type": "code",
   "execution_count": null,
   "metadata": {},
   "outputs": [],
   "source": []
  },
  {
   "cell_type": "markdown",
   "metadata": {},
   "source": [
    "Das Ergebnis sollte so aussehen:\n",
    "['Ein Text', True]\n",
    "Du siehst, dass jetzt **zwei Elemente** in der Liste vorhanden sind. Die **Methode** *append* fügt also das neue Element immer **am Ende** der Liste an"
   ]
  },
  {
   "cell_type": "code",
   "execution_count": null,
   "metadata": {},
   "outputs": [],
   "source": [
    "abbruch = False\n",
    "while not abbruch:\n",
    "    eingabe = input(\"Bitte Element eingeben (Abbruch mit 99):\")\n",
    "    print() # dieses Print ist offenbar innerhalb der Schleife notwendig, damit die Eingabe in jupyter Notebook bearbeitet werden kann!\n",
    "    if eingabe == \"99\":\n",
    "        abbruch = True\n",
    "    else:\n",
    "        meineListe.append(eingabe)\n",
    "        print (meineListe)"
   ]
  },
  {
   "attachments": {},
   "cell_type": "markdown",
   "metadata": {},
   "source": [
    "Das obige Beispiel zeigt das interaktive Hinzufügen von Listenelementen in einer Schleife. Schauen wir uns eine andere Möglichkeit an, Listenelemente hinzuzufügen - mit dem + Operator.\n",
    "Fügen wir also neuen text zu unserer Liste hinzu:"
   ]
  },
  {
   "cell_type": "code",
   "execution_count": 5,
   "metadata": {},
   "outputs": [],
   "source": [
    "meineListe = meineListe + [\"Ein Text mit dem + Operator hinzugefügt\"]"
   ]
  },
  {
   "attachments": {},
   "cell_type": "markdown",
   "metadata": {},
   "source": [
    "Gib diese Liste jetzt aus:"
   ]
  },
  {
   "cell_type": "code",
   "execution_count": null,
   "metadata": {},
   "outputs": [],
   "source": []
  },
  {
   "cell_type": "code",
   "execution_count": null,
   "metadata": {},
   "outputs": [],
   "source": [
    "meineListe + 348"
   ]
  },
  {
   "attachments": {},
   "cell_type": "markdown",
   "metadata": {},
   "source": [
    "Was passiert beim Ausführen der obigen Zeile? Genau es gibt einen\n",
    "TypeError: can only concatenate list (not \"int\") to list\n",
    "Mit ein wenig Englisch lässt sich das Fehlergeheimnis entschlüsseln. Offenbar passen die Typen auf den beiden Seiten des + Operators nicht zusammen."
   ]
  },
  {
   "cell_type": "code",
   "execution_count": null,
   "metadata": {},
   "outputs": [],
   "source": []
  }
 ],
 "metadata": {
  "kernelspec": {
   "display_name": "Python 3 (ipykernel)",
   "language": "python",
   "name": "python3"
  },
  "language_info": {
   "codemirror_mode": {
    "name": "ipython",
    "version": 3
   },
   "file_extension": ".py",
   "mimetype": "text/x-python",
   "name": "python",
   "nbconvert_exporter": "python",
   "pygments_lexer": "ipython3",
   "version": "3.9.6"
  }
 },
 "nbformat": 4,
 "nbformat_minor": 4
}
