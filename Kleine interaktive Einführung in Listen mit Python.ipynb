{
 "cells": [
  {
   "cell_type": "markdown",
   "metadata": {},
   "source": [
    "## Kleine interaktive Einführung in Listen mit Python"
   ]
  },
  {
   "cell_type": "markdown",
   "metadata": {},
   "source": [
    "Initalisieren wir zuerst eine einfache Liste mit Namen meineListe. Beachte hierbei nochmals die Namenskonventionen von Variablen:\n",
    "- kleinschreibung am Anfang\n",
    "- entweder CamelCase (wie im Beispiel)\n",
    "- oder _ Unterstrich (underscore): meine_liste"
   ]
  },
  {
   "cell_type": "code",
   "execution_count": 2,
   "metadata": {},
   "outputs": [],
   "source": [
    "meineListe = []"
   ]
  },
  {
   "cell_type": "markdown",
   "metadata": {},
   "source": [
    "Wenn wir diese Liste ausgeben, steht noch nichts drin:"
   ]
  },
  {
   "cell_type": "code",
   "execution_count": null,
   "metadata": {},
   "outputs": [],
   "source": [
    "print (meineListe)"
   ]
  },
  {
   "cell_type": "markdown",
   "metadata": {},
   "source": [
    "Der einfachste Weg, eine Element einer Liste hinzuzufügen ist mit der Listenmethode (=funktion)append:"
   ]
  },
  {
   "cell_type": "code",
   "execution_count": 3,
   "metadata": {},
   "outputs": [],
   "source": [
    "meineListe.append(\"Ein Text\")"
   ]
  },
  {
   "cell_type": "markdown",
   "metadata": {},
   "source": [
    "Schauen wir uns den Inhalt der Liste jetzt an:"
   ]
  },
  {
   "cell_type": "code",
   "execution_count": null,
   "metadata": {},
   "outputs": [],
   "source": [
    "print (meineListe)"
   ]
  },
  {
   "cell_type": "markdown",
   "metadata": {},
   "source": [
    "Die Liste enthält jetzt eine Element (eine Zeichenkette = String). Bei Listen kann man auch ein Element eines anderen Dateityps hinzufügen (falls sinnvoll!). Hier im Beispiel noch eine boolsche Variable mit Namen boolTest"
   ]
  },
  {
   "cell_type": "code",
   "execution_count": 5,
   "metadata": {},
   "outputs": [],
   "source": [
    "boolTest = True\n",
    "meineListe.append(boolTest)"
   ]
  },
  {
   "cell_type": "markdown",
   "metadata": {},
   "source": [
    "Gib die Liste mit Hilfe des folgenen (noch leeren) Code-Blocks aus. Schreibe dazu den entsprechenden Befehl in den Code Block und führe diesen aus"
   ]
  },
  {
   "cell_type": "code",
   "execution_count": null,
   "metadata": {},
   "outputs": [],
   "source": []
  },
  {
   "cell_type": "markdown",
   "metadata": {},
   "source": [
    "Das Ergebnis sollte so aussehen:\n",
    "['Ein Text', True]\n",
    "Du siehst, dass jetzt **zwei Elemente** in der Liste vorhanden sind. Die **Methode** *append* fügt also das neue Element immer **am Ende** der Liste an"
   ]
  },
  {
   "cell_type": "code",
   "execution_count": null,
   "metadata": {},
   "outputs": [],
   "source": [
    "abbruch = False\n",
    "while not abbruch:\n",
    "    eingabe = input(\"Bitte Element eingeben (Abbruch mit 99):\")\n",
    "    print() # dieses Print ist offenbar innerhalb der Schleife notwendig, damit die Eingabe in jupyter Notebook bearbeitet werden kann!\n",
    "    if eingabe == \"99\":\n",
    "        abbruch = True\n",
    "    else:\n",
    "        meineListe.append(eingabe)\n",
    "        print (meineListe)"
   ]
  },
  {
   "cell_type": "code",
   "execution_count": null,
   "metadata": {},
   "outputs": [],
   "source": []
  }
 ],
 "metadata": {
  "kernelspec": {
   "display_name": "Python 3 (ipykernel)",
   "language": "python",
   "name": "python3"
  },
  "language_info": {
   "codemirror_mode": {
    "name": "ipython",
    "version": 3
   },
   "file_extension": ".py",
   "mimetype": "text/x-python",
   "name": "python",
   "nbconvert_exporter": "python",
   "pygments_lexer": "ipython3",
   "version": "3.7.3"
  }
 },
 "nbformat": 4,
 "nbformat_minor": 4
}
